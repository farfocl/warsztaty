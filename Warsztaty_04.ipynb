{
  "nbformat": 4,
  "nbformat_minor": 0,
  "metadata": {
    "colab": {
      "name": "Warsztaty 04",
      "provenance": []
    },
    "kernelspec": {
      "name": "python3",
      "display_name": "Python 3"
    }
  },
  "cells": [
    {
      "cell_type": "code",
      "metadata": {
        "id": "GCou3ff--307",
        "colab_type": "code",
        "colab": {}
      },
      "source": [
        "#Zadanie wprowadzające. Napisz funkcje sprawdzające czy jest to liczba pierwsza czy nie.\n",
        "def liczba_pierwsza(x):\n",
        "  if x == 1:\n",
        "    print('to jest 1')\n",
        "    return False\n",
        "  dzielniki = int(x/2)\n",
        "  zbior = range(2,dzielniki)\n",
        "  for i in zbior:\n",
        "    if x%i == 0:\n",
        "      return False\n",
        "  return True\n",
        "\n",
        "test = liczba_pierwsza(1)\n",
        "print(test)"
      ],
      "execution_count": 0,
      "outputs": []
    },
    {
      "cell_type": "code",
      "metadata": {
        "id": "Z-men51xFFcM",
        "colab_type": "code",
        "colab": {}
      },
      "source": [
        "#Tuple - krotki. To struktura danych, która jest podoba do listy. \n",
        "#Może przyjmować różne typy danych. Różnica polega na tym, że tuple są niemutowalne. \n",
        "#To znaczy, że tuple raz przypisany do instancji nie może być zmieniony. \n",
        "#Przydaje się to w momencie gdy nie chcemy aby dane w tuplu były zmieniane przez cały program.\n",
        "# tuple można slice'ować jak listy, można sprawdzić długość len(), i iterować przez zawartość \n",
        "tuple1 = ('jakiś string',12,123.444,True)\n",
        "tuple1[1:3]"
      ],
      "execution_count": 0,
      "outputs": []
    },
    {
      "cell_type": "code",
      "metadata": {
        "id": "KPfaFxigHn_e",
        "colab_type": "code",
        "colab": {}
      },
      "source": [
        "#próba przypisana nowej wartości do istniejącej instancji tupla wywali błąd.\n",
        "tuple1[1] = 'Coś tam'"
      ],
      "execution_count": 0,
      "outputs": []
    },
    {
      "cell_type": "code",
      "metadata": {
        "id": "GfXlVIzIH56J",
        "colab_type": "code",
        "colab": {}
      },
      "source": [
        "# Niemutowaność można w pewien sposób ominąć tymczasowo przenosząc zawartosć do listy.\n",
        "tuple2 = (1,2,3,4,5,6,7)\n",
        "lista1 = list(tuple2)\n",
        "lista1.append(8)\n",
        "tuple2 = (lista1)"
      ],
      "execution_count": 0,
      "outputs": []
    },
    {
      "cell_type": "code",
      "metadata": {
        "id": "vZdJHaS5ISht",
        "colab_type": "code",
        "colab": {}
      },
      "source": [
        "tuple3 = (1,2,3,3)\n",
        "tuple4 = (4,5,6)\n",
        "tuple5 = tuple3 + tuple4\n",
        "tuple5\n",
        "len(tuple5)\n",
        "tuple5.count(3)"
      ],
      "execution_count": 0,
      "outputs": []
    },
    {
      "cell_type": "code",
      "metadata": {
        "id": "iwxP0levJFBz",
        "colab_type": "code",
        "colab": {}
      },
      "source": [
        "#Dictionary - słowniki. Słownik tworzy się przez nawiasy klamrowe {}. \n",
        "#W słowniku wartości ułożone są względem klucza {key : value}\n",
        "#Klucze to często stringi odnoszące się do znaczenia zawartości. \n",
        "#Pary klucz : wartość są oddzielone przecinkiem\n",
        "#Wartosc w jednym słowniku może być kolejnym słownikiem, powodując jego zagnieżdzenie\n",
        "\n",
        "\n",
        "badani = {\n",
        "    'Marian Kowalski':\n",
        "    {\n",
        "        'Testosteron': 540,\n",
        "        'WysokCiala': 180,\n",
        "        'MasaCiala' : 88,\n",
        "        'RozCisKrwi' : 140\n",
        "    },\n",
        "    'Joanne Janas':\n",
        "    {\n",
        "        'Testosteron': 130,\n",
        "        'WysokCiala': 165,\n",
        "        'MasaCiala' : 65,\n",
        "        'RozCisKrwi' : 129\n",
        "    }\n",
        "}"
      ],
      "execution_count": 0,
      "outputs": []
    },
    {
      "cell_type": "code",
      "metadata": {
        "id": "H6EAx8aLrJEh",
        "colab_type": "code",
        "colab": {}
      },
      "source": [
        "#Aby dostać się do wartości używamy jej klucza\n",
        "badani['Marian Kowalski']"
      ],
      "execution_count": 0,
      "outputs": []
    },
    {
      "cell_type": "code",
      "metadata": {
        "id": "MxRo6ibirX2O",
        "colab_type": "code",
        "colab": {}
      },
      "source": [
        "#W słownikach zagnieżdzonych można dodawać kolejne nawiasy aby dostać się do konkretnych wartości\n",
        "badani['Marian Kowalski']['Testosteron']"
      ],
      "execution_count": 0,
      "outputs": []
    },
    {
      "cell_type": "code",
      "metadata": {
        "id": "keMVff8RKwoj",
        "colab_type": "code",
        "colab": {}
      },
      "source": [
        "#Słowniki są mutowalne, można je zmieniać przypisując do nawego klucza nową wartość w ten sposób:\n",
        "#(w tym przypadku wartością jest kolejny słownik)\n",
        "badany1 = 'Jaroslaw Gąsior'\n",
        "badany1_atryb = {    'Testosteron': 130,\n",
        "        'WysokCiala': 165,\n",
        "        'MasaCiala' : 65,\n",
        "        'RozCisKrwi' : 129}\n",
        "badani[badany1] = badany1_atryb"
      ],
      "execution_count": 0,
      "outputs": []
    },
    {
      "cell_type": "code",
      "metadata": {
        "id": "dk0ks6i6KIvc",
        "colab_type": "code",
        "colab": {}
      },
      "source": [
        "badani\n"
      ],
      "execution_count": 0,
      "outputs": []
    },
    {
      "cell_type": "code",
      "metadata": {
        "id": "QnBuR89eMo5J",
        "colab_type": "code",
        "colab": {}
      },
      "source": [
        "# Zadanie. Prowadzisz badania na ludziach. Chcesz napisać interaktywny program który pozwoli stwożyć baze danych badanych i ich cech (wysokość i masa ciała)\n",
        "# Dane będą przechowywane w słowniku. Niech pyta czy chcesz wprowadzić kolejnego badanego. Wpisujesz jego imię i nazwisko i jego cechy. \n",
        "# Badanych niech można wproadzać bez końca ciągle powiększając słownik"
      ],
      "execution_count": 0,
      "outputs": []
    },
    {
      "cell_type": "code",
      "metadata": {
        "id": "tP2V5HRBslwW",
        "colab_type": "code",
        "colab": {}
      },
      "source": [
        "def add_person(slownik):\n",
        "  name = input('Podaj imię i nazwisko badanego : ')\n",
        "  height = input('Podaj wysokość ciała badanego : ')\n",
        "  mass = input('Podaj masę ciała badanego : ')\n",
        "  slownik[name] = {\n",
        "      \"Wysokość\" : height,\n",
        "      'Masa' : mass\n",
        "  }\n",
        "  return(slownik)"
      ],
      "execution_count": 0,
      "outputs": []
    },
    {
      "cell_type": "code",
      "metadata": {
        "id": "thy0Lf5Ktmcg",
        "colab_type": "code",
        "colab": {}
      },
      "source": [
        "slownik = {}\n",
        "while True:\n",
        "  decyzja = input('Witaj! Chcesz wprowadzić nowego badanego? (tak/nie)')\n",
        "  if decyzja == 'tak':\n",
        "    add_person(slownik)\n",
        "  else:\n",
        "    print('Do zobaczenia!')\n",
        "    break\n"
      ],
      "execution_count": 0,
      "outputs": []
    },
    {
      "cell_type": "code",
      "metadata": {
        "id": "HVEckzVEuOeC",
        "colab_type": "code",
        "colab": {}
      },
      "source": [
        "slownik"
      ],
      "execution_count": 0,
      "outputs": []
    },
    {
      "cell_type": "code",
      "metadata": {
        "id": "JK6kmAxruXCh",
        "colab_type": "code",
        "colab": {}
      },
      "source": [
        ""
      ],
      "execution_count": 0,
      "outputs": []
    }
  ]
}