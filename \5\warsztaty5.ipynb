{
  "nbformat": 4,
  "nbformat_minor": 0,
  "metadata": {
    "colab": {
      "name": "warsztaty5.ipynb",
      "provenance": [],
      "collapsed_sections": [
        "v3LLnJDb7hhD"
      ]
    },
    "kernelspec": {
      "name": "python3",
      "display_name": "Python 3"
    }
  },
  "cells": [
    {
      "cell_type": "markdown",
      "metadata": {
        "id": "I6nz6OhsvGuM",
        "colab_type": "text"
      },
      "source": [
        "# String"
      ]
    },
    {
      "cell_type": "code",
      "metadata": {
        "id": "b4DB6XUnfunT",
        "colab_type": "code",
        "outputId": "246ee2e5-6620-466e-ebca-5fc81abd1363",
        "colab": {
          "base_uri": "https://localhost:8080/",
          "height": 51
        }
      },
      "source": [
        "#string\n",
        "liczba = 10\n",
        "x = str(liczba)\n",
        "y = str('liczba')\n",
        "z = liczba\n",
        "\n",
        "print(x, y, z)\n",
        "print(type(x), type(y), type(z))"
      ],
      "execution_count": 0,
      "outputs": [
        {
          "output_type": "stream",
          "text": [
            "10 liczba 10\n",
            "<class 'str'> <class 'str'> <class 'int'>\n"
          ],
          "name": "stdout"
        }
      ]
    },
    {
      "cell_type": "code",
      "metadata": {
        "id": "Opi_xdXiwN7T",
        "colab_type": "code",
        "outputId": "73d6b00e-8958-45c2-a87a-086a337612f5",
        "colab": {
          "base_uri": "https://localhost:8080/",
          "height": 34
        }
      },
      "source": [
        "zdanie = \"bardzo długie zdanie\"\n",
        "\n",
        "print('bardzo' in zdanie)"
      ],
      "execution_count": 0,
      "outputs": [
        {
          "output_type": "stream",
          "text": [
            "True\n"
          ],
          "name": "stdout"
        }
      ]
    },
    {
      "cell_type": "code",
      "metadata": {
        "id": "9R00KHSXwuJb",
        "colab_type": "code",
        "outputId": "a9f4ce9b-9f78-466d-9a4b-4d062c692dc7",
        "colab": {
          "base_uri": "https://localhost:8080/",
          "height": 34
        }
      },
      "source": [
        "zdanie = \"kajak\"\n",
        "\n",
        "print(zdanie[2])"
      ],
      "execution_count": 0,
      "outputs": [
        {
          "output_type": "stream",
          "text": [
            "j\n"
          ],
          "name": "stdout"
        }
      ]
    },
    {
      "cell_type": "code",
      "metadata": {
        "id": "BDR8qOMhyQ8i",
        "colab_type": "code",
        "outputId": "4ea834f1-7a44-40dd-c01a-47e666f7adb4",
        "colab": {
          "base_uri": "https://localhost:8080/",
          "height": 119
        }
      },
      "source": [
        "lista_ze_zdania = list(zdanie)\n",
        "print(lista_ze_zdania)\n",
        "for i in zdanie:\n",
        "  print(i)"
      ],
      "execution_count": 0,
      "outputs": [
        {
          "output_type": "stream",
          "text": [
            "['k', 'a', 'j', 'a', 'k']\n",
            "k\n",
            "a\n",
            "j\n",
            "a\n",
            "k\n"
          ],
          "name": "stdout"
        }
      ]
    },
    {
      "cell_type": "code",
      "metadata": {
        "id": "PzriLTJYyku7",
        "colab_type": "code",
        "outputId": "3c6faa57-c070-4973-b7a0-3af67e80a222",
        "colab": {
          "base_uri": "https://localhost:8080/",
          "height": 34
        }
      },
      "source": [
        "dna = \"ATGCCTGCAATC\"\n",
        "\n",
        "ilosc_G = dna.count('GC')\n",
        "print(ilosc_G)"
      ],
      "execution_count": 0,
      "outputs": [
        {
          "output_type": "stream",
          "text": [
            "2\n"
          ],
          "name": "stdout"
        }
      ]
    },
    {
      "cell_type": "code",
      "metadata": {
        "id": "LO1r0zb51uhS",
        "colab_type": "code",
        "outputId": "a5e0f905-5d60-4c96-fac9-1a4d7e584772",
        "colab": {
          "base_uri": "https://localhost:8080/",
          "height": 34
        }
      },
      "source": [
        "dna = \"ATGCCTGCAATC\"\n",
        "\n",
        "dnax = dna.replace('A', '(adenina)')\n",
        "print(dnax)"
      ],
      "execution_count": 0,
      "outputs": [
        {
          "output_type": "stream",
          "text": [
            "(adenina)TGCCTGC(adenina)(adenina)TC\n"
          ],
          "name": "stdout"
        }
      ]
    },
    {
      "cell_type": "code",
      "metadata": {
        "id": "GIYvcL7DZkbU",
        "colab_type": "code",
        "colab": {}
      },
      "source": [
        ""
      ],
      "execution_count": 0,
      "outputs": []
    },
    {
      "cell_type": "code",
      "metadata": {
        "id": "Bv_yur-00gz9",
        "colab_type": "code",
        "outputId": "27bbeea7-ea38-471f-fb0c-e5233a8cbdd0",
        "colab": {
          "base_uri": "https://localhost:8080/",
          "height": 51
        }
      },
      "source": [
        "dict_keys = \"ATGC\"\n",
        "dict_vals = \"TACG\"\n",
        "\n",
        "translation_table = str.maketrans(dict_keys, dict_vals)\n",
        "\n",
        "dna = \"ATGCCTGCAATCCTGATCCGTGTCAAGCT\"\n",
        "\n",
        "dna_complement = dna.translate(translation_table)\n",
        "print(dna_complement)\n",
        "print(translation_table)"
      ],
      "execution_count": 0,
      "outputs": [
        {
          "output_type": "stream",
          "text": [
            "TACGGACGTTAGGACTAGGCACAGTTCGA\n",
            "{65: 84, 84: 65, 71: 67, 67: 71}\n"
          ],
          "name": "stdout"
        }
      ]
    },
    {
      "cell_type": "code",
      "metadata": {
        "id": "8JBmpOwzY_bP",
        "colab_type": "code",
        "outputId": "23a35808-3546-48d8-f7b4-afb98fb16b86",
        "colab": {
          "base_uri": "https://localhost:8080/",
          "height": 34
        }
      },
      "source": [
        "#print(translation_table.keys())\n",
        "lista_kluczy = list(translation_table.keys())\n",
        "print(lista_kluczy)\n",
        "#print(translation_table.values())"
      ],
      "execution_count": 0,
      "outputs": [
        {
          "output_type": "stream",
          "text": [
            "[65, 84, 71, 67]\n"
          ],
          "name": "stdout"
        }
      ]
    },
    {
      "cell_type": "code",
      "metadata": {
        "id": "rWrY57DNHuiC",
        "colab_type": "code",
        "outputId": "74e55673-42e9-4848-ff99-b24508da127f",
        "colab": {
          "base_uri": "https://localhost:8080/",
          "height": 34
        }
      },
      "source": [
        "print(translation_table)"
      ],
      "execution_count": 0,
      "outputs": [
        {
          "output_type": "stream",
          "text": [
            "{65: 84, 84: 65, 71: 67, 67: 71}\n"
          ],
          "name": "stdout"
        }
      ]
    },
    {
      "cell_type": "code",
      "metadata": {
        "id": "cquEBKnf2Qqg",
        "colab_type": "code",
        "outputId": "ae569673-ac74-4768-b6e8-cef362d5bd03",
        "colab": {
          "base_uri": "https://localhost:8080/",
          "height": 34
        }
      },
      "source": [
        "translation_table[65] = 123\n",
        "dna_complement = dna.translate(translation_table)\n",
        "print(dna_complement)"
      ],
      "execution_count": 0,
      "outputs": [
        {
          "output_type": "stream",
          "text": [
            "{ACGGACG{{AGGAC{AGGCACAG{{CGA\n"
          ],
          "name": "stdout"
        }
      ]
    },
    {
      "cell_type": "code",
      "metadata": {
        "id": "mYpZPu3gDq8s",
        "colab_type": "code",
        "outputId": "04455664-6cc9-4eab-ccd1-3a297c076788",
        "colab": {
          "base_uri": "https://localhost:8080/",
          "height": 51
        }
      },
      "source": [
        ""
      ],
      "execution_count": 0,
      "outputs": [
        {
          "output_type": "stream",
          "text": [
            "dict_keys([65, 84, 71, 67])\n",
            "dict_values([84, 65, 67, 71])\n"
          ],
          "name": "stdout"
        }
      ]
    },
    {
      "cell_type": "markdown",
      "metadata": {
        "id": "v3LLnJDb7hhD",
        "colab_type": "text"
      },
      "source": [
        "# Szyfr Cezara\n",
        "\n",
        "Przesunięcie każdej litery w zdaniu o pewną wartość w alfabecie\n",
        "\n",
        "ABC --> BCD itd. "
      ]
    },
    {
      "cell_type": "code",
      "metadata": {
        "id": "EmLxSmSP7cPX",
        "colab_type": "code",
        "outputId": "d5593cd6-3cfe-46a5-a7e7-46eee70bcb55",
        "colab": {
          "base_uri": "https://localhost:8080/",
          "height": 34
        }
      },
      "source": [
        "upper_keys = \"ABCDEFGHIJKLMNOPQRSTUVWXYZ\"\n",
        "upper_vals = \"ABCDEFGHIJKLMNOPQRSTUVWXYZ\"\n",
        "\n",
        "upper_table = str.maketrans(upper_keys, upper_vals)\n",
        "\n",
        "lower_keys = \"abcefghijklmnopqrstuvwxyz\"\n",
        "lower_vals = \"abcefghijklmnopqrstuvwxyz\"\n",
        "\n",
        "lower_table = str.maketrans(lower_keys, lower_vals)\n",
        "\n",
        "\n",
        "def szyfr_cezara(word, shift, dicts):\n",
        "\n",
        "  for dictionary in dicts:\n",
        "    first = list(dictionary.values())[0]\n",
        "    last = list(dictionary.values())[-1]\n",
        "\n",
        "    for key in dictionary:\n",
        "\n",
        "      if dictionary[key] + shift > last:\n",
        "        dictionary[key] = (first + (dictionary[key] + shift)%(last - first))\n",
        "\n",
        "      else:\n",
        "        dictionary[key] = dictionary[key] + shift\n",
        "\n",
        "    word = word.translate(dictionary)\n",
        "  \n",
        "  return(word)\n",
        "      \n",
        "szyfr_cezara(\"LUbie chleb\", 2, [lower_table, upper_table])\n",
        "    \n",
        "    "
      ],
      "execution_count": 0,
      "outputs": [
        {
          "output_type": "execute_result",
          "data": {
            "text/plain": [
              "'NWdkg ejngd'"
            ]
          },
          "metadata": {
            "tags": []
          },
          "execution_count": 37
        }
      ]
    },
    {
      "cell_type": "markdown",
      "metadata": {
        "id": "IBj8Nynb2Zym",
        "colab_type": "text"
      },
      "source": [
        "# Operacje na plikach"
      ]
    },
    {
      "cell_type": "code",
      "metadata": {
        "id": "gjJFKgyj1ejw",
        "colab_type": "code",
        "colab": {}
      },
      "source": [
        "plik = open(\"C:/Users/thead/nowy_plik.xd\", mode='w')\n",
        "plik.write(\"To jest nowy plik\")\n",
        "plik.close()\n"
      ],
      "execution_count": 0,
      "outputs": []
    },
    {
      "cell_type": "code",
      "metadata": {
        "id": "-dbR_lFh2ZhV",
        "colab_type": "code",
        "outputId": "4d440e43-5d8e-4ef8-e66d-5b63163f46b8",
        "colab": {
          "base_uri": "https://localhost:8080/",
          "height": 255
        }
      },
      "source": [
        "gen = open(\"C:/Users/thead/oksydaza.fasta\", mode='r')\n",
        "gen_string = gen.read()\n",
        "gen.close()\n",
        "print(gen_string)\n",
        "print(gen_string.count('\\n'))"
      ],
      "execution_count": 0,
      "outputs": [
        {
          "output_type": "stream",
          "text": [
            ">L22244.1 Tetragma gei mitochondrial cytochrome oxidase subunit I (3' end), transfer RNA-Leu, and cytochrome oxidase subunit II (5' end)\n",
            "TTGGAATTATATTAATATTAATTATTATTTGAAAATCATTAATTAATAAAAATATTAAATTATTTAGATT\n",
            "AAACACTATTTCTTCTATTGAATGATTACAAAATTTTCCACCTGCTGAACATTCTTATAATGAATTACCT\n",
            "ATTTTAAGAATTTTCTAATATGACAGAATTTATGTAATGGATTTAAGACCCATTTATAAAGGATTTATCC\n",
            "TTTTTTTAGAATATGCCAACATGATCAAATATTAATTTACAAAATAGATCCTCACCATTAATAGAACAAA\n",
            "TTATTTTTTTTCATGATCATTCATTAATAATTTTATTAATAATTACTATTTTAGTAAGATATTTAATAAT\n",
            "AAGTCTTTTTATTAATTTATTTATTAATCGATTTTTATTAGAAGGACAAATAATTGAAATAATTTGAACA\n",
            "ATTACTCCAGCAGTAACATTAATTTTTATTGCATTACCATCATTACATTTATTATATTTATTAGATGAAA\n",
            "TTAATAATCCTTTAATTACTTTAAAAAGTATTGGACATCAATGATATTGAACTTATGAATATTCAGATTT\n",
            "TAATAATATTCAATTTGATTCATATATAATTCCAACAAATGAGTTAAATTCTAATAATTTTCGATTATTA\n",
            "GATGTAGATAATCGAATTATTTTACCCTTCAATAATCAAATTCGAATTTTAATTACAGCAACAGATGTAA\n",
            "TTCATTCTTGAACTGTTCCTTCATTAGGAGTAAAAATTGATGCCAATCCAGGTCGATTAAAT\n",
            "\n",
            "12\n"
          ],
          "name": "stdout"
        }
      ]
    },
    {
      "cell_type": "code",
      "metadata": {
        "id": "wHuzJl3rNGkO",
        "colab_type": "code",
        "colab": {}
      },
      "source": [
        "zdanie = \"halo \\n xddd\"\n",
        "print(zdanie)"
      ],
      "execution_count": 0,
      "outputs": []
    },
    {
      "cell_type": "code",
      "metadata": {
        "id": "lFEGk0yD4nVR",
        "colab_type": "code",
        "outputId": "467f0027-25c5-4d91-a393-981d554f779c",
        "colab": {
          "base_uri": "https://localhost:8080/",
          "height": 54
        }
      },
      "source": [
        "def oczysc_fasta(fasta):\n",
        "  \n",
        "  if fasta[0] == '>':\n",
        "    fasta = fasta[fasta.index('\\n'):]\n",
        "\n",
        "  fasta = fasta.replace('\\n', '')\n",
        "  return(fasta)\n",
        "\n",
        "#gen_string2 = gen_string\n",
        "\n",
        "print(oczysc_fasta(gen_string))"
      ],
      "execution_count": 0,
      "outputs": [
        {
          "output_type": "stream",
          "text": [
            "TTGGAATTATATTAATATTAATTATTATTTGAAAATCATTAATTAATAAAAATATTAAATTATTTAGATTAAACACTATTTCTTCTATTGAATGATTACAAAATTTTCCACCTGCTGAACATTCTTATAATGAATTACCTATTTTAAGAATTTTCTAATATGACAGAATTTATGTAATGGATTTAAGACCCATTTATAAAGGATTTATCCTTTTTTTAGAATATGCCAACATGATCAAATATTAATTTACAAAATAGATCCTCACCATTAATAGAACAAATTATTTTTTTTCATGATCATTCATTAATAATTTTATTAATAATTACTATTTTAGTAAGATATTTAATAATAAGTCTTTTTATTAATTTATTTATTAATCGATTTTTATTAGAAGGACAAATAATTGAAATAATTTGAACAATTACTCCAGCAGTAACATTAATTTTTATTGCATTACCATCATTACATTTATTATATTTATTAGATGAAATTAATAATCCTTTAATTACTTTAAAAAGTATTGGACATCAATGATATTGAACTTATGAATATTCAGATTTTAATAATATTCAATTTGATTCATATATAATTCCAACAAATGAGTTAAATTCTAATAATTTTCGATTATTAGATGTAGATAATCGAATTATTTTACCCTTCAATAATCAAATTCGAATTTTAATTACAGCAACAGATGTAATTCATTCTTGAACTGTTCCTTCATTAGGAGTAAAAATTGATGCCAATCCAGGTCGATTAAAT\n"
          ],
          "name": "stdout"
        }
      ]
    },
    {
      "cell_type": "code",
      "metadata": {
        "id": "T-a1IOjF82Fz",
        "colab_type": "code",
        "colab": {}
      },
      "source": [
        "gen_oczyszczony = open(\"C:/Users/thead/czyste.niefasta\", mode='w')\n",
        "gen_oczyszczony.write(oczysc_fasta(gen_string))\n",
        "gen_oczyszczony.close()"
      ],
      "execution_count": 0,
      "outputs": []
    },
    {
      "cell_type": "code",
      "metadata": {
        "id": "8MEcEN7s9kzU",
        "colab_type": "code",
        "outputId": "61d6343a-a58f-4fae-83e3-42bc256b5e55",
        "colab": {
          "base_uri": "https://localhost:8080/",
          "height": 34
        }
      },
      "source": [
        "def czestosc_slow(tekst, wybrane_slowo = 0):\n",
        "  \n",
        "  niedozwolone = {33 : None, 34 : None, 39 : None, 40 : None, 41 : None, 42 : None, 44 : None, 45 : None, 46 : None, 47 : None, 58 : None, 59 : None, 63 : None}  #porządkowanie stringa - usuwanie !,.? itd.\n",
        "  oczyszczony_tekst = tekst.translate(niedozwolone).replace('—', ' ').replace('\\n', ' ').lower()\n",
        "  slowa = oczyszczony_tekst.split()\n",
        "\n",
        "  czestosc = {}\n",
        "  for slowo in slowa:\n",
        "\n",
        "    if slowo not in czestosc:\n",
        "      czestosc[slowo] = 1\n",
        "\n",
        "    else:\n",
        "      czestosc[slowo] = czestosc[slowo] + 1\n",
        "  \n",
        " # if wybrane_slowo == 0:\n",
        " #   return(sorted(czestosc.items(), key=lambda x: x[1])[::-1])\n",
        "\n",
        "  if wybrane_slowo in czestosc:\n",
        "    print(wybrane_slowo, \"występuje tyle razy:\", czestosc[wybrane_slowo])\n",
        "\n",
        "  else:\n",
        "    print(\"Brak takiego słowa\")\n",
        "     \n",
        "\n",
        "bible = open(\"C:/Users/thead/bible.txt\", mode='r')\n",
        "bible_text = bible.read()\n",
        "bible.close()\n",
        "\n",
        "czestosc_slow(bible_text, 'satan')"
      ],
      "execution_count": 0,
      "outputs": [
        {
          "output_type": "stream",
          "text": [
            "satan występuje tyle razy: 55\n"
          ],
          "name": "stdout"
        }
      ]
    },
    {
      "cell_type": "code",
      "metadata": {
        "id": "EoLkR7TPbZyW",
        "colab_type": "code",
        "outputId": "b24aea6d-8126-486c-adfe-b1bc8cd26e7a",
        "colab": {
          "base_uri": "https://localhost:8080/",
          "height": 34
        }
      },
      "source": [
        "niedozwolone = {33 : None, 34 : None, 39 : None, 40 : None, 41 : None, 42 : None, 44 : None, 45 : None, 46 : None, 47 : None, 58 : None, 59 : None, 63 : None}\n",
        "niedozwolone.items()"
      ],
      "execution_count": 0,
      "outputs": [
        {
          "output_type": "execute_result",
          "data": {
            "text/plain": [
              "dict_items([(33, None), (34, None), (39, None), (40, None), (41, None), (42, None), (44, None), (45, None), (46, None), (47, None), (58, None), (59, None), (63, None)])"
            ]
          },
          "metadata": {
            "tags": []
          },
          "execution_count": 85
        }
      ]
    }
  ]
}